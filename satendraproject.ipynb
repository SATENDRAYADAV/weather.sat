{
  "nbformat": 4,
  "nbformat_minor": 0,
  "metadata": {
    "colab": {
      "name": "Untitled1.ipynb",
      "provenance": [],
      "collapsed_sections": []
    },
    "kernelspec": {
      "name": "python3",
      "display_name": "Python 3"
    },
    "language_info": {
      "name": "python"
    }
  },
  "cells": [
    {
      "cell_type": "code",
      "metadata": {
        "id": "AFoCn_Xzd_rN",
        "colab": {
          "base_uri": "https://localhost:8080/"
        },
        "outputId": "af55da5e-2e88-4f56-8c76-7f7b0543fe93"
      },
      "source": [
        "import requests\n",
        "#import os\n",
        "from datetime import datetime\n",
        "\n",
        "api_key = 'c6ce295f5c70d7ddaf40fc7fea26e9a6'\n",
        "location = input(\"Enter the city name: \")\n",
        "\n",
        "complete_api_link = \"https://api.openweathermap.org/data/2.5/weather?q=\"+location+\"&appid=\"+api_key\n",
        "api_link = requests.get(complete_api_link)\n",
        "api_data = api_link.json()\n",
        "\n",
        "latitude =str( api_data['coord']['lat'])\n",
        "longitude =str(api_data['coord']['lon'])\n",
        "\n",
        "\n",
        "#create variables to store and display data\n",
        "temp_city = ((api_data['main']['temp']) - 273.15)\n",
        "weather_desc = api_data['weather'][0]['description']\n",
        "hmdt = api_data['main']['humidity']\n",
        "wind_spd = api_data['wind']['speed']\n",
        "date_time = datetime.now().strftime(\"%d %b %Y | %I:%M:%S %p\")\n",
        "\n",
        "\n",
        "print (\"-------------------------------------------------------------\")\n",
        "print (\"Weather Stats for - {}  || {}\".format(location.upper(), date_time))\n",
        "print (\"-------------------------------------------------------------\")\n",
        "\n",
        "print (\"Current temperature is: {:.2f} deg C\".format(temp_city))\n",
        "print (\"Current weather desc  :\",weather_desc)\n",
        "print (\"Current Humidity      :\",hmdt, '%')\n",
        "print (\"Current wind speed    :\",wind_spd ,'kmph')\n",
        "\n",
        "complete_api_lin = \"https://api.openweathermap.org/data/2.5/onecall?lat=\"+latitude+\"&lon=\"+longitude+\"&appid=\"+api_key\n",
        "\n",
        "\n",
        "api_lin = requests.get(complete_api_lin)\n",
        "api_dat = api_lin.json()\n",
        "\n",
        "current_clouds = api_dat['current']['clouds']\n",
        "current_pressure = api_dat['current']['pressure']\n",
        "current_visibility = api_dat['current']['visibility']\n",
        "\n",
        "print (\"current clouds        :\",current_clouds,'%')\n",
        "print (\"current_pressure      :\",current_pressure,' hPa')\n",
        "print (\"current_visibility    :\",current_visibility,' metres')\n",
        "\n",
        "complete_api_li = \"http://api.openweathermap.org/data/2.5/air_pollution?lat=\"+latitude+\"&lon=\"+longitude+\"&appid=\"+api_key\n",
        "api_li = requests.get(complete_api_li)\n",
        "api_dat = api_li.json()\n",
        "\n",
        "CO = api_dat['list'][0]['components']['co']\n",
        "no = api_dat['list'][0]['components']['no']\n",
        "no2 = api_dat['list'][0]['components']['no2']\n",
        "o3 = api_dat['list'][0]['components']['o3']\n",
        "so2 = api_dat['list'][0]['components']['so2']\n",
        "nh3 = api_dat['list'][0]['components']['nh3']\n",
        "\n",
        "print()\n",
        "print()\n",
        "print (\"-------------------------------------------------------------\")\n",
        "print (\"AIR POLLUTION STATS FOR - {}  || {}\".format(location.upper(), date_time))\n",
        "print (\"-------------------------------------------------------------\")\n",
        "print (\"Сoncentration of CO (Carbon monoxide)    :\",CO,\" μg/m3\")\n",
        "print (\"Сoncentration of NO (Nitrogen monoxide)  :\",no,\" μg/m3\")\n",
        "print (\"Сoncentration of NO2 (Nitrogen dioxide)  :\",no2,\" μg/m3\")\n",
        "print (\"Сoncentration of O3 (Ozone)              :\",o3,\" μg/m3\")\n",
        "print (\"Сoncentration of SO2 (Sulphur dioxide)   :\",so2,\" μg/m3\")\n",
        "print (\"Сoncentration of NH3 (Ammonia)           :\",nh3,\" μg/m3\")\n",
        "with open(\"file.text\",\"wb\") as f:\n",
        "  f.write(api_link.content)\n",
        "with open(\"file1.text\",\"wb\") as f:\n",
        "  f.write(api_lin.content)\n",
        "with open(\"file2.text\",\"wb\") as f:\n",
        "  f.write(api_li.content)\n"
      ],
      "execution_count": 12,
      "outputs": [
        {
          "output_type": "stream",
          "text": [
            "Enter the city name: mumbai\n",
            "-------------------------------------------------------------\n",
            "Weather Stats for - MUMBAI  || 23 Jun 2021 | 05:05:15 PM\n",
            "-------------------------------------------------------------\n",
            "Current temperature is: 29.99 deg C\n",
            "Current weather desc  : haze\n",
            "Current Humidity      : 74 %\n",
            "Current wind speed    : 4.12 kmph\n",
            "current clouds        : 75 %\n",
            "current_pressure      : 1008  hPa\n",
            "current_visibility    : 3000  metres\n",
            "\n",
            "\n",
            "-------------------------------------------------------------\n",
            "AIR POLLUTION STATS FOR - MUMBAI  || 23 Jun 2021 | 05:05:15 PM\n",
            "-------------------------------------------------------------\n",
            "Сoncentration of CO (Carbon monoxide)    : 727.65  μg/m3\n",
            "Сoncentration of NO (Nitrogen monoxide)  : 1.82  μg/m3\n",
            "Сoncentration of NO2 (Nitrogen dioxide)  : 26.73  μg/m3\n",
            "Сoncentration of O3 (Ozone)              : 4.87  μg/m3\n",
            "Сoncentration of SO2 (Sulphur dioxide)   : 28.37  μg/m3\n",
            "Сoncentration of NH3 (Ammonia)           : 8.74  μg/m3\n"
          ],
          "name": "stdout"
        }
      ]
    }
  ]
}